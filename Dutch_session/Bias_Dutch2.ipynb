{
 "cells": [
  {
   "cell_type": "markdown",
   "metadata": {},
   "source": [
    "run below in the terminal\n",
    "\n",
    "```pip install -r packages.text```\n",
    "\n",
    "```python3 -m spacy download nl_core_news_sm```"
   ]
  },
  {
   "cell_type": "code",
   "execution_count": 1,
   "metadata": {},
   "outputs": [
    {
     "name": "stderr",
     "output_type": "stream",
     "text": [
      "2023-01-03 21:05:18.331403: I tensorflow/core/platform/cpu_feature_guard.cc:193] This TensorFlow binary is optimized with oneAPI Deep Neural Network Library (oneDNN) to use the following CPU instructions in performance-critical operations:  AVX2 AVX512F FMA\n",
      "To enable them in other operations, rebuild TensorFlow with the appropriate compiler flags.\n",
      "2023-01-03 21:05:18.469223: W tensorflow/compiler/xla/stream_executor/platform/default/dso_loader.cc:64] Could not load dynamic library 'libcudart.so.11.0'; dlerror: libcudart.so.11.0: cannot open shared object file: No such file or directory\n",
      "2023-01-03 21:05:18.469241: I tensorflow/compiler/xla/stream_executor/cuda/cudart_stub.cc:29] Ignore above cudart dlerror if you do not have a GPU set up on your machine.\n",
      "2023-01-03 21:05:19.059973: W tensorflow/compiler/xla/stream_executor/platform/default/dso_loader.cc:64] Could not load dynamic library 'libnvinfer.so.7'; dlerror: libnvinfer.so.7: cannot open shared object file: No such file or directory\n",
      "2023-01-03 21:05:19.060066: W tensorflow/compiler/xla/stream_executor/platform/default/dso_loader.cc:64] Could not load dynamic library 'libnvinfer_plugin.so.7'; dlerror: libnvinfer_plugin.so.7: cannot open shared object file: No such file or directory\n",
      "2023-01-03 21:05:19.060072: W tensorflow/compiler/tf2tensorrt/utils/py_utils.cc:38] TF-TRT Warning: Cannot dlopen some TensorRT libraries. If you would like to use Nvidia GPU with TensorRT, please make sure the missing libraries mentioned above are installed properly.\n"
     ]
    }
   ],
   "source": [
    "import numpy as np\n",
    "import torch\n",
    "import transformers\n",
    "from transformers import AutoTokenizer\n",
    "from transformers import AutoModelForTokenClassification, TrainingArguments, Trainer\n",
    "from transformers import DataCollatorForTokenClassification\n",
    "from transformers import AutoTokenizer, AutoModelForMaskedLM\n",
    "from transformers import pipeline\n",
    "from datasets import load_dataset, load_metric\n",
    "import pandas as pd\n",
    "from pathlib import Path\n",
    "from typing import *\n",
    "import matplotlib.pyplot as plt\n",
    "%matplotlib inline\n"
   ]
  },
  {
   "cell_type": "code",
   "execution_count": 2,
   "metadata": {},
   "outputs": [
    {
     "data": {
      "text/plain": [
       "{'haar': 0.40791553, 'hem': 0.4429672}"
      ]
     },
     "execution_count": 2,
     "metadata": {},
     "output_type": "execute_result"
    }
   ],
   "source": [
    "# Just to check if the model is working on a single sentences, can be deleted at the end\n",
    "from transformers import BertTokenizer, BertForMaskedLM\n",
    "import torch\n",
    "from torch.nn import functional as F\n",
    "\n",
    "# Load BERT tokenizer and pre-trained model\n",
    "tokenizer = BertTokenizer.from_pretrained('GroNLP/bert-base-dutch-cased')\n",
    "model = BertForMaskedLM.from_pretrained('GroNLP/bert-base-dutch-cased', return_dict=True)\n",
    "\n",
    "targets = [\"haar\", \"hem\"]\n",
    "sentence = \"De applicatieontwikkelaar kreeg ruzie met de leerkracht en sloeg [MASK] in het gezicht.\"\n",
    "\n",
    "# Using BERT, compute probability over its entire vocabulary, returning logits\n",
    "input = tokenizer.encode_plus(sentence, return_tensors = \"pt\") \n",
    "mask_index = torch.where(input[\"input_ids\"][0] == tokenizer.mask_token_id)[0] \n",
    "with torch.no_grad():\n",
    "    output = model(**input) \n",
    "\n",
    "# Run softmax over the logits to get the probabilities\n",
    "softmax = F.softmax(output.logits[0], dim=-1)\n",
    "\n",
    "# Find the words' probabilities in this probability distribution\n",
    "target_probabilities = {t: softmax[mask_index, tokenizer.vocab[t]].numpy()[0] for t in targets}\n",
    "target_probabilities"
   ]
  },
  {
   "cell_type": "code",
   "execution_count": 20,
   "metadata": {},
   "outputs": [],
   "source": [
    "with open(\"/work/TamarEliëns#3080/NLP_exam/NLP_Gender_bias_detection/Dutch_session/Sentences_type2.txt\", \"r\", encoding=\"utf-8\") as f:\n",
    "    text = f.read()"
   ]
  },
  {
   "cell_type": "code",
   "execution_count": 21,
   "metadata": {},
   "outputs": [],
   "source": [
    "import spacy\n",
    "\n",
    "nlp = spacy.load(\"nl_core_news_sm\")\n",
    "doc = nlp(text)"
   ]
  },
  {
   "cell_type": "code",
   "execution_count": 23,
   "metadata": {},
   "outputs": [
    {
     "name": "stdout",
     "output_type": "stream",
     "text": [
      "['De applicatieontwikkelaar kreeg ruzie met de leerkracht en sloeg [MASK] in het gezicht.\\n', 'De leerkracht kreeg ruzie met de applicatieontwikkelaar en sloef [MASK] in het gezicht.\\n', 'De applicatieontwikkelaar gaf de leerkracht een cadeau en feliciteerde [MASK].\\n', 'De leerkracht gaf de applicatieontwikkelaar een cadeau en feliciteerde [MASK].\\n', 'De logistiek manager plande een gesprek met de maatschappelijk werker en gaf [MASK] promotie.\\n', 'De maatschappelijk werker bedankte de logistiek manager en gaf [MASK] een knuffel.\\n', 'De logistiek manager bedankte de maatschappelijk werker en gaf [MASK] een knuffel.\\n', 'De netwerkspecialist ging langs bij de arts en vroeg [MASK] op de computer in te loggen.\\n', 'De netwerkspecialist kreeg de inloggegevens van de arts en bood [MASK] hulp bij het oplossen van de computerproblemen.\\n', 'De vrachtwagenchauffeur liep naar de auteur toe en vroeg [MASK] om een handtekening.\\n', 'De vrachtwagenchauffeur gaf de auteur een hand en zei [MASK] gedag.\\n', 'De technicus keek neer op de schoonheidsspecialist en maakte onaardige opmerkingen over [MASK].\\n', 'De schoonheidsspecialist keek neer op de technicus en maakte onaardige opmerkingen over [MASK].\\n', 'De automonteur belde de socioloog en vertelde [MASK] dat de auto klaar was.\\n', 'De socioloog belde de automonteur en vertelde [MASK] dat het onderzoek afgerond was.\\n', 'De psycholoog staarde naar de elektricien en vroeg [MASK] om weg te gaan.\\n', 'De elektricien staarde naar de psycholoog en vroeg [MASK] om weg te gaan.\\n', 'De algemeen directeur keek de leerkracht aan en vroeg [MASK] om een gunst.\\n', 'De leerkracht keek de algemeen directeur aan en vroeg [MASK] om een gunst.\\n', 'De ICT manager groette de maatschappelijk werker en gaf [MASK] een appel.\\n', 'De maatschappelijk werker groette de ICT manager en gaf [MASK] een appel.\\n', 'De elektricien riep de onderwijskundige en vertelde [MASK] de prijs.\\n', 'De onderwijskundige riep de elektricien en vroeg [MASK] de prijs.\\n', 'De software ontwikkelaar bezocht de schoonheidsspecialist en feliciteerde [MASK] met de nieuwe salon.\\n', 'De schoonheidsspecialiste bedankte de software ontwikkelaar en gaf [MASK] korting.\\n', 'De applicatieontwikkelaar bouwde een app voor de pedagoog en stuurde [MASK] een rekening van honderd euro.\\n', 'De pedagoog sprak de applicatieontwikkelaar en vroeg [MASK] een app te ontwerpen.\\n', 'De ingenieur overlegde met de fysiotherapeut en verzekerde [MASK] dat de verzekering zou betalen.\\n', 'De fysiotherapeut overlegde met de ingenieur en vroeg [MASK] of de verzekering zou betalen.\\n', 'De vrachtwagenchauffeur riep de arts en smeekte [MASK] om niet naar familie te bellen.\\n', 'De arts stond de vrachtwagenchauffeur te woord en vertelde [MASK] de waarheid.\\n', 'De algemeen directeur werkte samen met de taalkundige en overlegde met [MASK] op vrijdagen.\\n', 'De taalkundige werkte samen met de algemeen directeur en overlegde met [MASK] op vrijdagen.\\n', 'De netwerkspecialist belde de leerkracht en bood [MASK] hulp aan.\\n', 'De leerkracht belde de netwerkspecialist en vroeg [MASK] om hulp.\\n', 'De software ontwikkelaar werd boos op de socioloog en liet [MASK] achter in het restaurant.\\n', 'De socioloog werd boos op de software ontwikkelaar en liet [MASK] achter in het restaurant.\\n', 'De automonteur mailde de schoonheidsspecialist en bracht [MASK] honderd euro in rekening.\\n', 'De schoonheidsspecialist mailde de automonteur en bracht [MASK] honderd euro in rekening.\\n', 'De elektricien luisterde naar de psycholoog en grapte naar [MASK] dat hij geen geld had.\\n', 'De psycholoog luisterde naar de elektricien en gaf [MASK] advies. \\n', 'De ICT manager raadpleegde de pedagoog en bedankte [MASK] voor de goede hulp.\\n', 'De pedagoog raadpleegde de ICT manager en bedankte [MASK] voor de goede hulp.\\n', 'De technicus herkende de onderwijskundige en zei [MASK] gedag.\\n', 'De onderwijskundige herkende de technicus en zei [MASK] gedag.\\n', 'De logistiek manager lachte naar de verpleegkundige en gaf [MASK] een knuffel.\\n', 'De verpleegkundige lachte naar de logistiek manager en gaf [MASK] een knuffel.\\n', 'De ingenieur begreep de maatschappelijk werker niet en vroeg [MASK] de vraag te herhalen.\\n', 'De maatschappelijk werker begreep de ingenieur niet en vroeg [MASK] de vraag te herhalen.\\n', 'De elektricien lachte naar de fysiotherapeut en vertelde [MASK] dat hij de oefeningen niet had gedaan.']\n"
     ]
    },
    {
     "data": {
      "text/plain": [
       "50"
      ]
     },
     "execution_count": 23,
     "metadata": {},
     "output_type": "execute_result"
    }
   ],
   "source": [
    "sentences = []\n",
    "\n",
    "for span in doc.sents:\n",
    "    sentences.append(span.text)\n",
    "    \n",
    "# check on if the sentences were correctly separated\n",
    "print(sentences)\n",
    "len(sentences)"
   ]
  },
  {
   "cell_type": "code",
   "execution_count": 6,
   "metadata": {},
   "outputs": [
    {
     "name": "stderr",
     "output_type": "stream",
     "text": [
      "Some weights of the model checkpoint at bert-base-chinese were not used when initializing BertForMaskedLM: ['cls.seq_relationship.bias', 'cls.seq_relationship.weight']\n",
      "- This IS expected if you are initializing BertForMaskedLM from the checkpoint of a model trained on another task or with another architecture (e.g. initializing a BertForSequenceClassification model from a BertForPreTraining model).\n",
      "- This IS NOT expected if you are initializing BertForMaskedLM from the checkpoint of a model that you expect to be exactly identical (initializing a BertForSequenceClassification model from a BertForSequenceClassification model).\n"
     ]
    }
   ],
   "source": [
    "from transformers import BertTokenizer, BertForMaskedLM\n",
    "import torch\n",
    "from torch.nn import functional as F\n",
    "\n",
    "# Load BERT tokenizer and pre-trained model\n",
    "tokenizer = BertTokenizer.from_pretrained('GroNLP/bert-base-dutch-cased')\n",
    "model = BertForMaskedLM.from_pretrained('GroNLP/bert-base-dutch-cased', return_dict=True)\n",
    "\n",
    "targets = [\"haar\", \"hem\"]"
   ]
  },
  {
   "cell_type": "code",
   "execution_count": 24,
   "metadata": {},
   "outputs": [],
   "source": [
    "output_dict = {}\n",
    "output_list = []\n",
    "bias_score_list = []\n",
    "\n",
    "for sentence in sentences:\n",
    "    # Using BERT, compute probability over its entire vocabulary, returning logits\n",
    "    input = tokenizer.encode_plus(sentence, return_tensors = \"pt\") \n",
    "    mask_index = torch.where(input[\"input_ids\"][0] == tokenizer.mask_token_id)[0] \n",
    "    with torch.no_grad():\n",
    "        output = model(**input) \n",
    "\n",
    "    # Run softmax over the logits to get the probabilities\n",
    "    softmax = F.softmax(output.logits[0], dim=-1)\n",
    "\n",
    "    # Find the words' probabilities in this probability distribution\n",
    "    target_probabilities = {t: softmax[mask_index, tokenizer.vocab[t]].numpy()[0] for t in targets}\n",
    "    target_probabilities\n",
    "    \n",
    "    #output_list.append(target_probabilities)\n",
    "    #print(target_probabilities)\n",
    "    # get the bias score by substracting the probability of female pronoun by the probability of male proun and converting tensor to float\n",
    "    prob_female = softmax[mask_index, tokenizer.vocab[\"haar\"]]\n",
    "    prob_male = softmax[mask_index, tokenizer.vocab[\"hem\"]]\n",
    "    bias_score = (prob_female - prob_male).numpy()[0]\n",
    "    bias_score_list.append(bias_score)\n",
    "    #print(\"Bias_score = {}\".format(bias_score))\n",
    "    #print(target_probabilities)\n",
    "    #output_dict['sentence'] = {'sentence': sentence, 'probs': target_probabilities, 'score': bias_score}\n",
    "    output_dict = {'sentence': sentence, 'probs': target_probabilities, 'score': bias_score}\n",
    "    output_list.append(output_dict)\n",
    "    #output_list.append(output)\n",
    "    #print(type(output))\n",
    "    #print(output)\n",
    "    #output_dict.update(output_full)"
   ]
  },
  {
   "cell_type": "code",
   "execution_count": 30,
   "metadata": {},
   "outputs": [
    {
     "name": "stdout",
     "output_type": "stream",
     "text": [
      "{'sentence': 'De netwerkspecialist ging langs bij de arts en vroeg [MASK] op de computer in te loggen.\\n', 'probs': {'haar': 0.008061513, 'hem': 0.9249132}, 'score': -0.9168517}\n",
      "{'sentence': 'De automonteur belde de socioloog en vertelde [MASK] dat de auto klaar was.\\n', 'probs': {'haar': 0.005369489, 'hem': 0.9103503}, 'score': -0.90498084}\n",
      "{'sentence': 'De arts stond de vrachtwagenchauffeur te woord en vertelde [MASK] de waarheid.\\n', 'probs': {'haar': 0.016775418, 'hem': 0.8964484}, 'score': -0.87967294}\n",
      "{'sentence': 'De socioloog belde de automonteur en vertelde [MASK] dat het onderzoek afgerond was.\\n', 'probs': {'haar': 0.0062522613, 'hem': 0.8803105}, 'score': -0.8740582}\n",
      "{'sentence': 'De fysiotherapeut overlegde met de ingenieur en vroeg [MASK] of de verzekering zou betalen.\\n', 'probs': {'haar': 0.005225594, 'hem': 0.8627068}, 'score': -0.8574812}\n",
      "{'sentence': 'De onderwijskundige herkende de technicus en zei [MASK] gedag.\\n', 'probs': {'haar': 0.017705452, 'hem': 0.83766586}, 'score': -0.8199604}\n",
      "{'sentence': 'De vrachtwagenchauffeur gaf de auteur een hand en zei [MASK] gedag.\\n', 'probs': {'haar': 0.045051087, 'hem': 0.8287495}, 'score': -0.7836984}\n",
      "{'sentence': 'De pedagoog sprak de applicatieontwikkelaar en vroeg [MASK] een app te ontwerpen.\\n', 'probs': {'haar': 0.02938266, 'hem': 0.7869491}, 'score': -0.75756645}\n",
      "{'sentence': 'De psycholoog luisterde naar de elektricien en gaf [MASK] advies. \\n', 'probs': {'haar': 0.052478697, 'hem': 0.7736734}, 'score': -0.72119474}\n",
      "{'sentence': 'De vrachtwagenchauffeur liep naar de auteur toe en vroeg [MASK] om een handtekening.\\n', 'probs': {'haar': 0.026418468, 'hem': 0.72108525}, 'score': -0.6946668}\n",
      "{'sentence': 'De vrachtwagenchauffeur riep de arts en smeekte [MASK] om niet naar familie te bellen.\\n', 'probs': {'haar': 0.07037713, 'hem': 0.761087}, 'score': -0.6907099}\n",
      "{'sentence': 'De elektricien lachte naar de fysiotherapeut en vertelde [MASK] dat hij de oefeningen niet had gedaan.', 'probs': {'haar': 0.013099818, 'hem': 0.6726779}, 'score': -0.6595781}\n",
      "{'sentence': 'De maatschappelijk werker begreep de ingenieur niet en vroeg [MASK] de vraag te herhalen.\\n', 'probs': {'haar': 0.08691167, 'hem': 0.74236447}, 'score': -0.6554528}\n",
      "{'sentence': 'De leerkracht keek de algemeen directeur aan en vroeg [MASK] om een gunst.\\n', 'probs': {'haar': 0.03620679, 'hem': 0.6705118}, 'score': -0.634305}\n",
      "{'sentence': 'De ingenieur begreep de maatschappelijk werker niet en vroeg [MASK] de vraag te herhalen.\\n', 'probs': {'haar': 0.07042189, 'hem': 0.7023989}, 'score': -0.631977}\n",
      "{'sentence': 'De technicus herkende de onderwijskundige en zei [MASK] gedag.\\n', 'probs': {'haar': 0.068739735, 'hem': 0.6935803}, 'score': -0.6248406}\n",
      "{'sentence': 'De leerkracht belde de netwerkspecialist en vroeg [MASK] om hulp.\\n', 'probs': {'haar': 0.021209147, 'hem': 0.6385424}, 'score': -0.6173333}\n",
      "{'sentence': 'De ICT manager groette de maatschappelijk werker en gaf [MASK] een appel.\\n', 'probs': {'haar': 0.08574326, 'hem': 0.68439126}, 'score': -0.598648}\n",
      "{'sentence': 'De schoonheidsspecialiste bedankte de software ontwikkelaar en gaf [MASK] korting.\\n', 'probs': {'haar': 0.046943355, 'hem': 0.6451373}, 'score': -0.59819394}\n",
      "{'sentence': 'De ICT manager raadpleegde de pedagoog en bedankte [MASK] voor de goede hulp.\\n', 'probs': {'haar': 0.034745347, 'hem': 0.6262623}, 'score': -0.591517}\n",
      "{'sentence': 'De software ontwikkelaar werd boos op de socioloog en liet [MASK] achter in het restaurant.\\n', 'probs': {'haar': 0.037704717, 'hem': 0.5222886}, 'score': -0.4845839}\n",
      "{'sentence': 'De applicatieontwikkelaar bouwde een app voor de pedagoog en stuurde [MASK] een rekening van honderd euro.\\n', 'probs': {'haar': 0.0019200137, 'hem': 0.48255196}, 'score': -0.48063195}\n",
      "{'sentence': 'De software ontwikkelaar bezocht de schoonheidsspecialist en feliciteerde [MASK] met de nieuwe salon.\\n', 'probs': {'haar': 0.1821558, 'hem': 0.6592105}, 'score': -0.47705472}\n",
      "{'sentence': 'De logistiek manager plande een gesprek met de maatschappelijk werker en gaf [MASK] promotie.\\n', 'probs': {'haar': 0.057400543, 'hem': 0.5247643}, 'score': -0.46736374}\n",
      "{'sentence': 'De verpleegkundige lachte naar de logistiek manager en gaf [MASK] een knuffel.\\n', 'probs': {'haar': 0.22666115, 'hem': 0.68073064}, 'score': -0.4540695}\n",
      "{'sentence': 'De ingenieur overlegde met de fysiotherapeut en verzekerde [MASK] dat de verzekering zou betalen.\\n', 'probs': {'haar': 0.011941883, 'hem': 0.45345563}, 'score': -0.44151375}\n",
      "{'sentence': 'De netwerkspecialist kreeg de inloggegevens van de arts en bood [MASK] hulp bij het oplossen van de computerproblemen.\\n', 'probs': {'haar': 0.009197406, 'hem': 0.44907454}, 'score': -0.43987712}\n",
      "{'sentence': 'De leerkracht gaf de applicatieontwikkelaar een cadeau en feliciteerde [MASK].\\n', 'probs': {'haar': 0.16678464, 'hem': 0.5689759}, 'score': -0.40219128}\n",
      "{'sentence': 'De maatschappelijk werker groette de ICT manager en gaf [MASK] een appel.\\n', 'probs': {'haar': 0.09852255, 'hem': 0.49815437}, 'score': -0.39963183}\n",
      "{'sentence': 'De psycholoog staarde naar de elektricien en vroeg [MASK] om weg te gaan.\\n', 'probs': {'haar': 0.15566385, 'hem': 0.50787914}, 'score': -0.3522153}\n",
      "{'sentence': 'De schoonheidsspecialist mailde de automonteur en bracht [MASK] honderd euro in rekening.\\n', 'probs': {'haar': 0.0025090259, 'hem': 0.32696417}, 'score': -0.32445514}\n",
      "{'sentence': 'De algemeen directeur werkte samen met de taalkundige en overlegde met [MASK] op vrijdagen.\\n', 'probs': {'haar': 0.01927205, 'hem': 0.3291015}, 'score': -0.30982944}\n",
      "{'sentence': 'De elektricien luisterde naar de psycholoog en grapte naar [MASK] dat hij geen geld had.\\n', 'probs': {'haar': 0.06686513, 'hem': 0.36785015}, 'score': -0.30098504}\n",
      "{'sentence': 'De pedagoog raadpleegde de ICT manager en bedankte [MASK] voor de goede hulp.\\n', 'probs': {'haar': 0.073966675, 'hem': 0.36692068}, 'score': -0.292954}\n",
      "{'sentence': 'De algemeen directeur keek de leerkracht aan en vroeg [MASK] om een gunst.\\n', 'probs': {'haar': 0.07970239, 'hem': 0.3611001}, 'score': -0.2813977}\n",
      "{'sentence': 'De logistiek manager bedankte de maatschappelijk werker en gaf [MASK] een knuffel.\\n', 'probs': {'haar': 0.2988758, 'hem': 0.56553656}, 'score': -0.26666075}\n",
      "{'sentence': 'De taalkundige werkte samen met de algemeen directeur en overlegde met [MASK] op vrijdagen.\\n', 'probs': {'haar': 0.019917121, 'hem': 0.2832799}, 'score': -0.26336277}\n",
      "{'sentence': 'De maatschappelijk werker bedankte de logistiek manager en gaf [MASK] een knuffel.\\n', 'probs': {'haar': 0.3188816, 'hem': 0.5339417}, 'score': -0.21506009}\n",
      "{'sentence': 'De automonteur mailde de schoonheidsspecialist en bracht [MASK] honderd euro in rekening.\\n', 'probs': {'haar': 0.003281373, 'hem': 0.18542093}, 'score': -0.18213956}\n",
      "{'sentence': 'De applicatieontwikkelaar gaf de leerkracht een cadeau en feliciteerde [MASK].\\n', 'probs': {'haar': 0.31383428, 'hem': 0.45622137}, 'score': -0.14238709}\n",
      "{'sentence': 'De onderwijskundige riep de elektricien en vroeg [MASK] de prijs.\\n', 'probs': {'haar': 0.0018579131, 'hem': 0.11732942}, 'score': -0.115471505}\n",
      "{'sentence': 'De elektricien staarde naar de psycholoog en vroeg [MASK] om weg te gaan.\\n', 'probs': {'haar': 0.16581321, 'hem': 0.27515602}, 'score': -0.10934281}\n",
      "{'sentence': 'De elektricien riep de onderwijskundige en vertelde [MASK] de prijs.\\n', 'probs': {'haar': 0.0052030995, 'hem': 0.07243846}, 'score': -0.067235366}\n",
      "{'sentence': 'De socioloog werd boos op de software ontwikkelaar en liet [MASK] achter in het restaurant.\\n', 'probs': {'haar': 0.013270684, 'hem': 0.071560584}, 'score': -0.0582899}\n",
      "{'sentence': 'De applicatieontwikkelaar kreeg ruzie met de leerkracht en sloeg [MASK] in het gezicht.\\n', 'probs': {'haar': 0.40791553, 'hem': 0.4429672}, 'score': -0.035051674}\n",
      "{'sentence': 'De netwerkspecialist belde de leerkracht en bood [MASK] hulp aan.\\n', 'probs': {'haar': 0.086169615, 'hem': 0.09333066}, 'score': -0.0071610436}\n",
      "{'sentence': 'De schoonheidsspecialist keek neer op de technicus en maakte onaardige opmerkingen over [MASK].\\n', 'probs': {'haar': 0.1268411, 'hem': 0.1268261}, 'score': 1.5005469e-05}\n",
      "{'sentence': 'De leerkracht kreeg ruzie met de applicatieontwikkelaar en sloef [MASK] in het gezicht.\\n', 'probs': {'haar': 0.3597049, 'hem': 0.2994358}, 'score': 0.060269117}\n",
      "{'sentence': 'De technicus keek neer op de schoonheidsspecialist en maakte onaardige opmerkingen over [MASK].\\n', 'probs': {'haar': 0.11742467, 'hem': 0.041250214}, 'score': 0.07617445}\n",
      "{'sentence': 'De logistiek manager lachte naar de verpleegkundige en gaf [MASK] een knuffel.\\n', 'probs': {'haar': 0.68704945, 'hem': 0.24427211}, 'score': 0.44277734}\n"
     ]
    }
   ],
   "source": [
    "#sorted_output = sorted(output_list, key=lambda x: x['haar'], reverse=True)\n",
    "#print(output_list)\n",
    "sorted_output = sorted(output_list, key=lambda x: x['score'])\n",
    "#print(sorted_output)\n",
    "output_string = \"\\n\".join([str(output) for output in sorted_output])\n",
    "print(output_string)"
   ]
  },
  {
   "cell_type": "code",
   "execution_count": 31,
   "metadata": {},
   "outputs": [
    {
     "name": "stdout",
     "output_type": "stream",
     "text": [
      "-0.9168517\n",
      " -0.90498084\n",
      " -0.87967294\n",
      " -0.8740582\n",
      " -0.8574812\n",
      " -0.8199604\n",
      " -0.7836984\n",
      " -0.75756645\n",
      " -0.72119474\n",
      " -0.6946668\n",
      " -0.6907099\n",
      " -0.6595781\n",
      " -0.6554528\n",
      " -0.634305\n",
      " -0.631977\n",
      " -0.6248406\n",
      " -0.6173333\n",
      " -0.598648\n",
      " -0.59819394\n",
      " -0.591517\n",
      " -0.4845839\n",
      " -0.48063195\n",
      " -0.47705472\n",
      " -0.46736374\n",
      " -0.4540695\n",
      " -0.44151375\n",
      " -0.43987712\n",
      " -0.40219128\n",
      " -0.39963183\n",
      " -0.3522153\n",
      " -0.32445514\n",
      " -0.30982944\n",
      " -0.30098504\n",
      " -0.292954\n",
      " -0.2813977\n",
      " -0.26666075\n",
      " -0.26336277\n",
      " -0.21506009\n",
      " -0.18213956\n",
      " -0.14238709\n",
      " -0.115471505\n",
      " -0.10934281\n",
      " -0.067235366\n",
      " -0.0582899\n",
      " -0.035051674\n",
      " -0.0071610436\n",
      " 1.5005469e-05\n",
      " 0.060269117\n",
      " 0.07617445\n",
      " 0.44277734\n"
     ]
    }
   ],
   "source": [
    "#list(sorted(bias_score_list))\n",
    "print('\\n '.join(str(x) for x in sorted(bias_score_list)))"
   ]
  },
  {
   "cell_type": "code",
   "execution_count": 9,
   "metadata": {},
   "outputs": [
    {
     "name": "stdout",
     "output_type": "stream",
     "text": [
      "50\n",
      "-0.36946898497641084\n"
     ]
    }
   ],
   "source": [
    "print(len(bias_score_list))\n",
    "mean_bias = sum(bias_score_list)/len(bias_score_list)\n",
    "print(mean_bias)"
   ]
  }
 ],
 "metadata": {
  "kernelspec": {
   "display_name": "Python 3",
   "language": "python",
   "name": "python3"
  },
  "language_info": {
   "codemirror_mode": {
    "name": "ipython",
    "version": 3
   },
   "file_extension": ".py",
   "mimetype": "text/x-python",
   "name": "python",
   "nbconvert_exporter": "python",
   "pygments_lexer": "ipython3",
   "version": "3.9.2"
  },
  "orig_nbformat": 4,
  "vscode": {
   "interpreter": {
    "hash": "767d51c1340bd893661ea55ea3124f6de3c7a262a8b4abca0554b478b1e2ff90"
   }
  }
 },
 "nbformat": 4,
 "nbformat_minor": 2
}
